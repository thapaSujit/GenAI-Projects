{
 "cells": [
  {
   "cell_type": "code",
   "execution_count": 3,
   "metadata": {},
   "outputs": [
    {
     "name": "stdout",
     "output_type": "stream",
     "text": [
      "Collecting ctransformers==0.2.5\n",
      "  Using cached ctransformers-0.2.5-py3-none-any.whl (3.2 MB)\n",
      "Collecting huggingface-hub\n",
      "  Using cached huggingface_hub-0.22.2-py3-none-any.whl (388 kB)\n",
      "Requirement already satisfied: pyyaml>=5.1 in c:\\users\\megas\\appdata\\local\\programs\\python\\python39\\lib\\site-packages (from huggingface-hub->ctransformers==0.2.5) (6.0)\n",
      "Collecting typing-extensions>=3.7.4.3\n",
      "  Using cached typing_extensions-4.11.0-py3-none-any.whl (34 kB)\n",
      "Requirement already satisfied: requests in c:\\users\\megas\\appdata\\local\\programs\\python\\python39\\lib\\site-packages (from huggingface-hub->ctransformers==0.2.5) (2.28.2)\n",
      "Requirement already satisfied: packaging>=20.9 in c:\\users\\megas\\appdata\\roaming\\python\\python39\\site-packages (from huggingface-hub->ctransformers==0.2.5) (21.3)\n",
      "Collecting filelock\n",
      "  Using cached filelock-3.13.4-py3-none-any.whl (11 kB)\n",
      "Collecting fsspec>=2023.5.0\n",
      "  Using cached fsspec-2024.3.1-py3-none-any.whl (171 kB)\n",
      "Requirement already satisfied: tqdm>=4.42.1 in c:\\users\\megas\\appdata\\local\\programs\\python\\python39\\lib\\site-packages (from huggingface-hub->ctransformers==0.2.5) (4.64.1)\n",
      "Requirement already satisfied: idna<4,>=2.5 in c:\\users\\megas\\appdata\\local\\programs\\python\\python39\\lib\\site-packages (from requests->huggingface-hub->ctransformers==0.2.5) (3.4)\n",
      "Requirement already satisfied: charset-normalizer<4,>=2 in c:\\users\\megas\\appdata\\local\\programs\\python\\python39\\lib\\site-packages (from requests->huggingface-hub->ctransformers==0.2.5) (3.0.1)\n",
      "Requirement already satisfied: certifi>=2017.4.17 in c:\\users\\megas\\appdata\\local\\programs\\python\\python39\\lib\\site-packages (from requests->huggingface-hub->ctransformers==0.2.5) (2022.12.7)\n",
      "Requirement already satisfied: urllib3<1.27,>=1.21.1 in c:\\users\\megas\\appdata\\local\\programs\\python\\python39\\lib\\site-packages (from requests->huggingface-hub->ctransformers==0.2.5) (1.26.14)\n",
      "Requirement already satisfied: pyparsing!=3.0.5,>=2.0.2 in c:\\users\\megas\\appdata\\roaming\\python\\python39\\site-packages (from packaging>=20.9->huggingface-hub->ctransformers==0.2.5) (3.0.9)\n",
      "Requirement already satisfied: colorama; platform_system == \"Windows\" in c:\\users\\megas\\appdata\\local\\programs\\python\\python39\\lib\\site-packages (from tqdm>=4.42.1->huggingface-hub->ctransformers==0.2.5) (0.4.6)\n",
      "Installing collected packages: typing-extensions, filelock, fsspec, huggingface-hub, ctransformers\n",
      "Successfully installed ctransformers-0.2.5 filelock-3.13.4 fsspec-2024.3.1 huggingface-hub-0.22.2 typing-extensions-4.11.0\n"
     ]
    },
    {
     "name": "stderr",
     "output_type": "stream",
     "text": [
      "WARNING: You are using pip version 20.2.3; however, version 24.0 is available.\n",
      "You should consider upgrading via the 'c:\\users\\megas\\appdata\\local\\programs\\python\\python39\\python.exe -m pip install --upgrade pip' command.\n"
     ]
    },
    {
     "name": "stdout",
     "output_type": "stream",
     "text": [
      "Collecting sentence-transformers==2.2.2\n",
      "  Using cached sentence-transformers-2.2.2.tar.gz (85 kB)\n",
      "Collecting transformers<5.0.0,>=4.6.0\n",
      "  Using cached transformers-4.39.3-py3-none-any.whl (8.8 MB)\n",
      "Requirement already satisfied: tqdm in c:\\users\\megas\\appdata\\local\\programs\\python\\python39\\lib\\site-packages (from sentence-transformers==2.2.2) (4.64.1)\n",
      "Collecting torch>=1.6.0\n",
      "  Using cached torch-2.2.2-cp39-cp39-win_amd64.whl (198.5 MB)\n",
      "Collecting torchvision\n",
      "  Using cached torchvision-0.17.2-cp39-cp39-win_amd64.whl (1.2 MB)\n",
      "Requirement already satisfied: numpy in c:\\users\\megas\\appdata\\local\\programs\\python\\python39\\lib\\site-packages (from sentence-transformers==2.2.2) (1.21.4)\n",
      "Requirement already satisfied: scikit-learn in c:\\users\\megas\\appdata\\local\\programs\\python\\python39\\lib\\site-packages (from sentence-transformers==2.2.2) (1.1.2)\n",
      "Requirement already satisfied: scipy in c:\\users\\megas\\appdata\\local\\programs\\python\\python39\\lib\\site-packages (from sentence-transformers==2.2.2) (1.7.3)\n",
      "Requirement already satisfied: nltk in c:\\users\\megas\\appdata\\local\\programs\\python\\python39\\lib\\site-packages (from sentence-transformers==2.2.2) (3.7)\n",
      "Collecting sentencepiece\n",
      "  Using cached sentencepiece-0.2.0-cp39-cp39-win_amd64.whl (991 kB)\n",
      "Requirement already satisfied: huggingface-hub>=0.4.0 in c:\\users\\megas\\appdata\\local\\programs\\python\\python39\\lib\\site-packages (from sentence-transformers==2.2.2) (0.22.2)\n",
      "Collecting tokenizers<0.19,>=0.14\n",
      "  Using cached tokenizers-0.15.2-cp39-none-win_amd64.whl (2.2 MB)\n",
      "Requirement already satisfied: packaging>=20.0 in c:\\users\\megas\\appdata\\roaming\\python\\python39\\site-packages (from transformers<5.0.0,>=4.6.0->sentence-transformers==2.2.2) (21.3)\n",
      "Requirement already satisfied: filelock in c:\\users\\megas\\appdata\\local\\programs\\python\\python39\\lib\\site-packages (from transformers<5.0.0,>=4.6.0->sentence-transformers==2.2.2) (3.13.4)\n",
      "Requirement already satisfied: regex!=2019.12.17 in c:\\users\\megas\\appdata\\local\\programs\\python\\python39\\lib\\site-packages (from transformers<5.0.0,>=4.6.0->sentence-transformers==2.2.2) (2022.9.13)\n",
      "Collecting safetensors>=0.4.1\n",
      "  Using cached safetensors-0.4.2-cp39-none-win_amd64.whl (269 kB)\n",
      "Requirement already satisfied: pyyaml>=5.1 in c:\\users\\megas\\appdata\\local\\programs\\python\\python39\\lib\\site-packages (from transformers<5.0.0,>=4.6.0->sentence-transformers==2.2.2) (6.0)\n",
      "Requirement already satisfied: requests in c:\\users\\megas\\appdata\\local\\programs\\python\\python39\\lib\\site-packages (from transformers<5.0.0,>=4.6.0->sentence-transformers==2.2.2) (2.28.2)\n",
      "Requirement already satisfied: colorama; platform_system == \"Windows\" in c:\\users\\megas\\appdata\\local\\programs\\python\\python39\\lib\\site-packages (from tqdm->sentence-transformers==2.2.2) (0.4.6)\n",
      "Collecting sympy\n",
      "  Using cached sympy-1.12-py3-none-any.whl (5.7 MB)\n",
      "Requirement already satisfied: jinja2 in c:\\users\\megas\\appdata\\local\\programs\\python\\python39\\lib\\site-packages (from torch>=1.6.0->sentence-transformers==2.2.2) (3.1.2)\n",
      "Requirement already satisfied: fsspec in c:\\users\\megas\\appdata\\local\\programs\\python\\python39\\lib\\site-packages (from torch>=1.6.0->sentence-transformers==2.2.2) (2024.3.1)\n",
      "Collecting networkx\n",
      "  Using cached networkx-3.2.1-py3-none-any.whl (1.6 MB)\n",
      "Requirement already satisfied: typing-extensions>=4.8.0 in c:\\users\\megas\\appdata\\local\\programs\\python\\python39\\lib\\site-packages (from torch>=1.6.0->sentence-transformers==2.2.2) (4.11.0)\n",
      "Requirement already satisfied: pillow!=8.3.*,>=5.3.0 in c:\\users\\megas\\appdata\\local\\programs\\python\\python39\\lib\\site-packages (from torchvision->sentence-transformers==2.2.2) (9.4.0)\n",
      "Requirement already satisfied: joblib>=1.0.0 in c:\\users\\megas\\appdata\\local\\programs\\python\\python39\\lib\\site-packages (from scikit-learn->sentence-transformers==2.2.2) (1.2.0)\n",
      "Requirement already satisfied: threadpoolctl>=2.0.0 in c:\\users\\megas\\appdata\\local\\programs\\python\\python39\\lib\\site-packages (from scikit-learn->sentence-transformers==2.2.2) (3.1.0)\n",
      "Requirement already satisfied: click in c:\\users\\megas\\appdata\\local\\programs\\python\\python39\\lib\\site-packages (from nltk->sentence-transformers==2.2.2) (8.1.3)\n",
      "Requirement already satisfied: pyparsing!=3.0.5,>=2.0.2 in c:\\users\\megas\\appdata\\roaming\\python\\python39\\site-packages (from packaging>=20.0->transformers<5.0.0,>=4.6.0->sentence-transformers==2.2.2) (3.0.9)\n",
      "Requirement already satisfied: certifi>=2017.4.17 in c:\\users\\megas\\appdata\\local\\programs\\python\\python39\\lib\\site-packages (from requests->transformers<5.0.0,>=4.6.0->sentence-transformers==2.2.2) (2022.12.7)\n",
      "Requirement already satisfied: charset-normalizer<4,>=2 in c:\\users\\megas\\appdata\\local\\programs\\python\\python39\\lib\\site-packages (from requests->transformers<5.0.0,>=4.6.0->sentence-transformers==2.2.2) (3.0.1)\n",
      "Requirement already satisfied: urllib3<1.27,>=1.21.1 in c:\\users\\megas\\appdata\\local\\programs\\python\\python39\\lib\\site-packages (from requests->transformers<5.0.0,>=4.6.0->sentence-transformers==2.2.2) (1.26.14)\n",
      "Requirement already satisfied: idna<4,>=2.5 in c:\\users\\megas\\appdata\\local\\programs\\python\\python39\\lib\\site-packages (from requests->transformers<5.0.0,>=4.6.0->sentence-transformers==2.2.2) (3.4)\n",
      "Collecting mpmath>=0.19\n",
      "  Using cached mpmath-1.3.0-py3-none-any.whl (536 kB)\n",
      "Requirement already satisfied: MarkupSafe>=2.0 in c:\\users\\megas\\appdata\\local\\programs\\python\\python39\\lib\\site-packages (from jinja2->torch>=1.6.0->sentence-transformers==2.2.2) (2.1.1)\n",
      "Using legacy 'setup.py install' for sentence-transformers, since package 'wheel' is not installed.\n",
      "Installing collected packages: tokenizers, safetensors, transformers, mpmath, sympy, networkx, torch, torchvision, sentencepiece, sentence-transformers\n",
      "    Running setup.py install for sentence-transformers: started\n",
      "    Running setup.py install for sentence-transformers: finished with status 'done'\n",
      "Successfully installed mpmath-1.3.0 networkx-3.2.1 safetensors-0.4.2 sentence-transformers-2.2.2 sentencepiece-0.2.0 sympy-1.12 tokenizers-0.15.2 torch-2.2.2 torchvision-0.17.2 transformers-4.39.3\n"
     ]
    },
    {
     "name": "stderr",
     "output_type": "stream",
     "text": [
      "WARNING: You are using pip version 20.2.3; however, version 24.0 is available.\n",
      "You should consider upgrading via the 'c:\\users\\megas\\appdata\\local\\programs\\python\\python39\\python.exe -m pip install --upgrade pip' command.\n"
     ]
    },
    {
     "name": "stdout",
     "output_type": "stream",
     "text": [
      "Collecting pinecone-client\n",
      "  Using cached pinecone_client-3.2.2-py3-none-any.whl (215 kB)\n",
      "Requirement already satisfied: typing-extensions>=3.7.4 in c:\\users\\megas\\appdata\\local\\programs\\python\\python39\\lib\\site-packages (from pinecone-client) (4.11.0)\n",
      "Requirement already satisfied: urllib3>=1.26.0; python_version >= \"3.8\" and python_version < \"3.12\" in c:\\users\\megas\\appdata\\local\\programs\\python\\python39\\lib\\site-packages (from pinecone-client) (1.26.14)\n",
      "Requirement already satisfied: tqdm>=4.64.1 in c:\\users\\megas\\appdata\\local\\programs\\python\\python39\\lib\\site-packages (from pinecone-client) (4.64.1)\n",
      "Requirement already satisfied: certifi>=2019.11.17 in c:\\users\\megas\\appdata\\local\\programs\\python\\python39\\lib\\site-packages (from pinecone-client) (2022.12.7)\n",
      "Requirement already satisfied: colorama; platform_system == \"Windows\" in c:\\users\\megas\\appdata\\local\\programs\\python\\python39\\lib\\site-packages (from tqdm>=4.64.1->pinecone-client) (0.4.6)\n",
      "Installing collected packages: pinecone-client\n",
      "Successfully installed pinecone-client-3.2.2\n"
     ]
    },
    {
     "name": "stderr",
     "output_type": "stream",
     "text": [
      "WARNING: You are using pip version 20.2.3; however, version 24.0 is available.\n",
      "You should consider upgrading via the 'c:\\users\\megas\\appdata\\local\\programs\\python\\python39\\python.exe -m pip install --upgrade pip' command.\n"
     ]
    },
    {
     "name": "stdout",
     "output_type": "stream",
     "text": [
      "Collecting flask\n",
      "  Using cached flask-3.0.3-py3-none-any.whl (101 kB)\n",
      "Requirement already satisfied: Jinja2>=3.1.2 in c:\\users\\megas\\appdata\\local\\programs\\python\\python39\\lib\\site-packages (from flask) (3.1.2)\n",
      "Collecting importlib-metadata>=3.6.0; python_version < \"3.10\"\n",
      "  Using cached importlib_metadata-7.1.0-py3-none-any.whl (24 kB)\n",
      "Collecting blinker>=1.6.2\n",
      "  Using cached blinker-1.7.0-py3-none-any.whl (13 kB)\n",
      "Requirement already satisfied: click>=8.1.3 in c:\\users\\megas\\appdata\\local\\programs\\python\\python39\\lib\\site-packages (from flask) (8.1.3)\n",
      "Collecting Werkzeug>=3.0.0\n",
      "  Using cached werkzeug-3.0.2-py3-none-any.whl (226 kB)\n",
      "Collecting itsdangerous>=2.1.2\n",
      "  Using cached itsdangerous-2.1.2-py3-none-any.whl (15 kB)\n",
      "Requirement already satisfied: MarkupSafe>=2.0 in c:\\users\\megas\\appdata\\local\\programs\\python\\python39\\lib\\site-packages (from Jinja2>=3.1.2->flask) (2.1.1)\n",
      "Collecting zipp>=0.5\n",
      "  Using cached zipp-3.18.1-py3-none-any.whl (8.2 kB)\n",
      "Requirement already satisfied: colorama; platform_system == \"Windows\" in c:\\users\\megas\\appdata\\local\\programs\\python\\python39\\lib\\site-packages (from click>=8.1.3->flask) (0.4.6)\n",
      "Installing collected packages: zipp, importlib-metadata, blinker, Werkzeug, itsdangerous, flask\n",
      "Successfully installed Werkzeug-3.0.2 blinker-1.7.0 flask-3.0.3 importlib-metadata-7.1.0 itsdangerous-2.1.2 zipp-3.18.1\n"
     ]
    },
    {
     "name": "stderr",
     "output_type": "stream",
     "text": [
      "WARNING: You are using pip version 20.2.3; however, version 24.0 is available.\n",
      "You should consider upgrading via the 'c:\\users\\megas\\appdata\\local\\programs\\python\\python39\\python.exe -m pip install --upgrade pip' command.\n"
     ]
    },
    {
     "name": "stdout",
     "output_type": "stream",
     "text": [
      "Collecting pypdf\n",
      "  Using cached pypdf-4.2.0-py3-none-any.whl (290 kB)\n",
      "Requirement already satisfied: typing_extensions>=4.0; python_version < \"3.11\" in c:\\users\\megas\\appdata\\local\\programs\\python\\python39\\lib\\site-packages (from pypdf) (4.11.0)\n",
      "Installing collected packages: pypdf\n",
      "Successfully installed pypdf-4.2.0\n"
     ]
    },
    {
     "name": "stderr",
     "output_type": "stream",
     "text": [
      "WARNING: You are using pip version 20.2.3; however, version 24.0 is available.\n",
      "You should consider upgrading via the 'c:\\users\\megas\\appdata\\local\\programs\\python\\python39\\python.exe -m pip install --upgrade pip' command.\n"
     ]
    },
    {
     "name": "stdout",
     "output_type": "stream",
     "text": [
      "Collecting python-dotenv\n",
      "  Using cached python_dotenv-1.0.1-py3-none-any.whl (19 kB)\n",
      "Installing collected packages: python-dotenv\n",
      "Successfully installed python-dotenv-1.0.1\n"
     ]
    },
    {
     "name": "stderr",
     "output_type": "stream",
     "text": [
      "WARNING: You are using pip version 20.2.3; however, version 24.0 is available.\n",
      "You should consider upgrading via the 'c:\\users\\megas\\appdata\\local\\programs\\python\\python39\\python.exe -m pip install --upgrade pip' command.\n"
     ]
    },
    {
     "name": "stdout",
     "output_type": "stream",
     "text": [
      "Collecting langchain==0.0.225\n",
      "  Using cached langchain-0.0.225-py3-none-any.whl (1.2 MB)\n",
      "Collecting langchainplus-sdk<0.0.21,>=0.0.20\n",
      "  Using cached langchainplus_sdk-0.0.20-py3-none-any.whl (25 kB)\n",
      "Collecting aiohttp<4.0.0,>=3.8.3\n",
      "  Using cached aiohttp-3.9.3-cp39-cp39-win_amd64.whl (366 kB)\n",
      "Collecting async-timeout<5.0.0,>=4.0.0; python_version < \"3.11\"\n",
      "  Using cached async_timeout-4.0.3-py3-none-any.whl (5.7 kB)\n",
      "Requirement already satisfied: requests<3,>=2 in c:\\users\\megas\\appdata\\local\\programs\\python\\python39\\lib\\site-packages (from langchain==0.0.225) (2.28.2)\n",
      "Collecting SQLAlchemy<3,>=1.4\n",
      "  Using cached SQLAlchemy-2.0.29-cp39-cp39-win_amd64.whl (2.1 MB)\n",
      "Collecting numexpr<3.0.0,>=2.8.4\n",
      "  Using cached numexpr-2.10.0-cp39-cp39-win_amd64.whl (97 kB)\n",
      "Collecting openapi-schema-pydantic<2.0,>=1.2\n",
      "  Using cached openapi_schema_pydantic-1.2.4-py3-none-any.whl (90 kB)\n",
      "Requirement already satisfied: PyYAML>=5.4.1 in c:\\users\\megas\\appdata\\local\\programs\\python\\python39\\lib\\site-packages (from langchain==0.0.225) (6.0)\n",
      "Collecting dataclasses-json<0.6.0,>=0.5.7\n",
      "  Using cached dataclasses_json-0.5.14-py3-none-any.whl (26 kB)\n",
      "Requirement already satisfied: numpy<2,>=1 in c:\\users\\megas\\appdata\\local\\programs\\python\\python39\\lib\\site-packages (from langchain==0.0.225) (1.21.4)\n",
      "Collecting pydantic<2,>=1\n",
      "  Using cached pydantic-1.10.15-cp39-cp39-win_amd64.whl (2.2 MB)\n",
      "Collecting tenacity<9.0.0,>=8.1.0\n",
      "  Using cached tenacity-8.2.3-py3-none-any.whl (24 kB)\n",
      "Collecting multidict<7.0,>=4.5\n",
      "  Using cached multidict-6.0.5-cp39-cp39-win_amd64.whl (28 kB)\n",
      "Collecting aiosignal>=1.1.2\n",
      "  Using cached aiosignal-1.3.1-py3-none-any.whl (7.6 kB)\n",
      "Collecting attrs>=17.3.0\n",
      "  Using cached attrs-23.2.0-py3-none-any.whl (60 kB)\n",
      "Collecting frozenlist>=1.1.1\n",
      "  Using cached frozenlist-1.4.1-cp39-cp39-win_amd64.whl (50 kB)\n",
      "Collecting yarl<2.0,>=1.0\n",
      "  Using cached yarl-1.9.4-cp39-cp39-win_amd64.whl (76 kB)\n",
      "Requirement already satisfied: urllib3<1.27,>=1.21.1 in c:\\users\\megas\\appdata\\local\\programs\\python\\python39\\lib\\site-packages (from requests<3,>=2->langchain==0.0.225) (1.26.14)\n",
      "Requirement already satisfied: charset-normalizer<4,>=2 in c:\\users\\megas\\appdata\\local\\programs\\python\\python39\\lib\\site-packages (from requests<3,>=2->langchain==0.0.225) (3.0.1)\n",
      "Requirement already satisfied: certifi>=2017.4.17 in c:\\users\\megas\\appdata\\local\\programs\\python\\python39\\lib\\site-packages (from requests<3,>=2->langchain==0.0.225) (2022.12.7)\n",
      "Requirement already satisfied: idna<4,>=2.5 in c:\\users\\megas\\appdata\\local\\programs\\python\\python39\\lib\\site-packages (from requests<3,>=2->langchain==0.0.225) (3.4)\n",
      "Collecting greenlet!=0.4.17; platform_machine == \"aarch64\" or (platform_machine == \"ppc64le\" or (platform_machine == \"x86_64\" or (platform_machine == \"amd64\" or (platform_machine == \"AMD64\" or (platform_machine == \"win32\" or platform_machine == \"WIN32\")))))\n",
      "  Using cached greenlet-3.0.3-cp39-cp39-win_amd64.whl (290 kB)\n",
      "Requirement already satisfied: typing-extensions>=4.6.0 in c:\\users\\megas\\appdata\\local\\programs\\python\\python39\\lib\\site-packages (from SQLAlchemy<3,>=1.4->langchain==0.0.225) (4.11.0)\n",
      "Collecting marshmallow<4.0.0,>=3.18.0\n",
      "  Using cached marshmallow-3.21.1-py3-none-any.whl (49 kB)\n",
      "Collecting typing-inspect<1,>=0.4.0\n",
      "  Using cached typing_inspect-0.9.0-py3-none-any.whl (8.8 kB)\n",
      "Requirement already satisfied: packaging>=17.0 in c:\\users\\megas\\appdata\\roaming\\python\\python39\\site-packages (from marshmallow<4.0.0,>=3.18.0->dataclasses-json<0.6.0,>=0.5.7->langchain==0.0.225) (21.3)\n",
      "Collecting mypy-extensions>=0.3.0\n",
      "  Using cached mypy_extensions-1.0.0-py3-none-any.whl (4.7 kB)\n",
      "Requirement already satisfied: pyparsing!=3.0.5,>=2.0.2 in c:\\users\\megas\\appdata\\roaming\\python\\python39\\site-packages (from packaging>=17.0->marshmallow<4.0.0,>=3.18.0->dataclasses-json<0.6.0,>=0.5.7->langchain==0.0.225) (3.0.9)\n",
      "Installing collected packages: pydantic, tenacity, langchainplus-sdk, async-timeout, multidict, frozenlist, aiosignal, attrs, yarl, aiohttp, greenlet, SQLAlchemy, numexpr, openapi-schema-pydantic, marshmallow, mypy-extensions, typing-inspect, dataclasses-json, langchain\n",
      "Successfully installed SQLAlchemy-2.0.29 aiohttp-3.9.3 aiosignal-1.3.1 async-timeout-4.0.3 attrs-23.2.0 dataclasses-json-0.5.14 frozenlist-1.4.1 greenlet-3.0.3 langchain-0.0.225 langchainplus-sdk-0.0.20 marshmallow-3.21.1 multidict-6.0.5 mypy-extensions-1.0.0 numexpr-2.10.0 openapi-schema-pydantic-1.2.4 pydantic-1.10.15 tenacity-8.2.3 typing-inspect-0.9.0 yarl-1.9.4\n"
     ]
    },
    {
     "name": "stderr",
     "output_type": "stream",
     "text": [
      "WARNING: You are using pip version 20.2.3; however, version 24.0 is available.\n",
      "You should consider upgrading via the 'c:\\users\\megas\\appdata\\local\\programs\\python\\python39\\python.exe -m pip install --upgrade pip' command.\n"
     ]
    }
   ],
   "source": [
    "!pip install ctransformers==0.2.5\n",
    "!pip install sentence-transformers==2.2.2\n",
    "!pip install pinecone-client\n",
    "!pip install flask\n",
    "!pip install pypdf\n",
    "!pip install python-dotenv\n",
    "!pip install langchain==0.0.225"
   ]
  },
  {
   "cell_type": "code",
   "execution_count": 4,
   "metadata": {},
   "outputs": [
    {
     "name": "stdout",
     "output_type": "stream",
     "text": [
      "HI\n"
     ]
    },
    {
     "name": "stderr",
     "output_type": "stream",
     "text": [
      "c:\\Users\\megas\\AppData\\Local\\Programs\\Python\\Python39\\lib\\site-packages\\pinecone\\data\\index.py:1: TqdmWarning: IProgress not found. Please update jupyter and ipywidgets. See https://ipywidgets.readthedocs.io/en/stable/user_install.html\n",
      "  from tqdm.autonotebook import tqdm\n"
     ]
    }
   ],
   "source": [
    "from langchain import PromptTemplate\n",
    "from langchain.chains import RetrievalQA\n",
    "from langchain.embeddings import HuggingFaceEmbeddings\n",
    "from langchain.vectorstores import Pinecone\n",
    "import pinecone\n",
    "from langchain.document_loaders import PyPDFLoader, DirectoryLoader\n",
    "from langchain.text_splitter import RecursiveCharacterTextSplitter\n",
    "from langchain.prompts import PromptTemplate\n",
    "from langchain.llms import CTransformers\n",
    "print(\"HI\")"
   ]
  },
  {
   "cell_type": "code",
   "execution_count": 5,
   "metadata": {},
   "outputs": [],
   "source": [
    "PINECONE_API_KEY = \"1ac95287-4650-4ecf-adad-25ac642dd101\"\n",
    "PINECONE_API_ENV = \"gcp-starter\""
   ]
  },
  {
   "cell_type": "code",
   "execution_count": null,
   "metadata": {},
   "outputs": [],
   "source": [
    "#Extract data from the PDF\n",
    "def load_pdf(data):\n",
    "    loader = DirectoryLoader(data,\n",
    "                    glob=\"*.pdf\",\n",
    "                    loader_cls=PyPDFLoader)\n",
    "    \n",
    "    documents = loader.load()\n",
    "\n",
    "    return documents"
   ]
  }
 ],
 "metadata": {
  "kernelspec": {
   "display_name": "Python 3",
   "language": "python",
   "name": "python3"
  },
  "language_info": {
   "codemirror_mode": {
    "name": "ipython",
    "version": 3
   },
   "file_extension": ".py",
   "mimetype": "text/x-python",
   "name": "python",
   "nbconvert_exporter": "python",
   "pygments_lexer": "ipython3",
   "version": "3.9.2"
  }
 },
 "nbformat": 4,
 "nbformat_minor": 2
}
